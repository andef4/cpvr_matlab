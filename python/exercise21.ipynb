{
 "cells": [
  {
   "cell_type": "markdown",
   "metadata": {},
   "source": [
    "# Exercise 21 : Cohen-Sutherland Clipping\n",
    "Using the Cohen-Sutherland algorithm, clip the segment (s 1 ; e 1 ) and (s 2 ; e 2 ). The clipping phase must be processed in order : BOTTOM , TOP , LEFT and RIGHT ."
   ]
  },
  {
   "cell_type": "code",
   "execution_count": 1,
   "metadata": {},
   "outputs": [],
   "source": [
    "%matplotlib inline\n",
    "import math\n",
    "import numpy as np\n",
    "import matplotlib.pyplot as plt\n",
    "import matplotlib\n",
    "from matplotlib.patches import Polygon\n",
    "from matplotlib.collections import PatchCollection"
   ]
  },
  {
   "cell_type": "code",
   "execution_count": 2,
   "metadata": {},
   "outputs": [],
   "source": [
    "class Figure(object):\n",
    "    def __init__(self):\n",
    "        _, self.ax = plt.subplots()\n",
    "\n",
    "    def draw(self):\n",
    "        self.ax.axis((0, 40, 0, 30))\n",
    "        self.ax.set_aspect(1)\n",
    "        plt.show()\n",
    "        \n",
    "    def draw_polygon(self, points, linewidth=1, edgecolor='#000000'):\n",
    "        polygon = Polygon(points, True, linewidth=linewidth, edgecolor=edgecolor, facecolor='#FFFFFF')\n",
    "        self.ax.add_patch(polygon)\n",
    "    \n",
    "    def draw_point(self, p, color='red'):\n",
    "        self.ax.plot(p[0], p[1], marker='o', markersize=3, color=color)\n",
    "\n",
    "def draw_outline(fig):\n",
    "    fig.draw_polygon([(10, 0), (10, 30)])\n",
    "    fig.draw_polygon([(30, 0), (30, 30)])\n",
    "    fig.draw_polygon([(0, 20), (40, 20)])\n",
    "    fig.draw_polygon([(0, 10), (40, 10)])"
   ]
  },
  {
   "cell_type": "code",
   "execution_count": 3,
   "metadata": {},
   "outputs": [
    {
     "data": {
      "image/png": "[encoded data removed]",
      "text/plain": [
       "<Figure size 432x288 with 1 Axes>"
      ]
     },
     "metadata": {},
     "output_type": "display_data"
    }
   ],
   "source": [
    "s1 = [2, 5]\n",
    "e1 = [22, 25]\n",
    "s2 = [20, 15]\n",
    "e2 = [20, 3]\n",
    "\n",
    "fig = Figure()\n",
    "draw_outline(fig)\n",
    "fig.draw_polygon([s1, e1], linewidth=2, edgecolor='#FF0000')\n",
    "fig.draw_polygon([s2, e2], linewidth=2, edgecolor='#0000FF')\n",
    "fig.draw()"
   ]
  },
  {
   "cell_type": "code",
   "execution_count": 4,
   "metadata": {},
   "outputs": [
    {
     "data": {
      "image/png": "[encoded data removed]",
      "text/plain": [
       "<Figure size 432x288 with 1 Axes>"
      ]
     },
     "metadata": {},
     "output_type": "display_data"
    }
   ],
   "source": [
    "from enum import Enum, unique\n",
    "\n",
    "@unique\n",
    "class Segment(Enum):\n",
    "    TOP = 1\n",
    "    BOTTOM = 2\n",
    "    LEFT = 3\n",
    "    RIGHT = 4\n",
    "    \n",
    "\n",
    "VIEWPORT_LEFT = 10\n",
    "VIEWPORT_RIGHT = 30\n",
    "VIEWPORT_TOP = 20\n",
    "VIEWPORT_BOTTOM = 10\n",
    "    \n",
    "def get_segments(point):\n",
    "    # left column\n",
    "    if point[0] < VIEWPORT_LEFT:\n",
    "        if point[1] > VIEWPORT_TOP:\n",
    "            return {Segment.LEFT, Segment.TOP}\n",
    "        elif VIEWPORT_TOP > point[1] > VIEWPORT_BOTTOM:\n",
    "            return {Segment.LEFT}\n",
    "        elif point[1] < VIEWPORT_BOTTOM:\n",
    "            return {Segment.LEFT, Segment.BOTTOM}\n",
    "        else:\n",
    "            raise AssertionError()\n",
    "    \n",
    "    # middle column:\n",
    "    if VIEWPORT_LEFT < point[0] < VIEWPORT_RIGHT:\n",
    "        if point[1] > VIEWPORT_TOP:\n",
    "            return {Segment.TOP}\n",
    "        elif VIEWPORT_TOP > point[1] > VIEWPORT_BOTTOM:\n",
    "            # center\n",
    "            return set()\n",
    "        elif point[1] < VIEWPORT_BOTTOM:\n",
    "            return {Segment.BOTTOM}\n",
    "        else:\n",
    "            raise AssertionError()\n",
    "\n",
    "    # left column:\n",
    "    if point[0] > VIEWPORT_TOP:\n",
    "        return {Segment.RIGHT, Segment.TOP}\n",
    "    elif VIEWPORT_TOP > point[1] > VIEWPORT_BOTTOM:\n",
    "        return {Segment.RIGHT}\n",
    "    elif point[1] < VIEWPORT_BOTTOM:\n",
    "        return {Segment.RIGHT, Segment.BOTTOM}\n",
    "    else:\n",
    "        raise AssertionError()\n",
    "\n",
    "def clip(point, segments, slope):\n",
    "    if Segment.TOP in segments:\n",
    "        diff = point[1] - VIEWPORT_TOP\n",
    "        point[1] = VIEWPORT_TOP\n",
    "        point[0] = point[0] - diff * slope\n",
    "    if Segment.BOTTOM in segments:\n",
    "        diff = VIEWPORT_BOTTOM - point[1]\n",
    "        point[1] = VIEWPORT_BOTTOM\n",
    "        point[0] = point[0] + diff * slope\n",
    "    if Segment.LEFT in segments:\n",
    "        diff = point[0] - VIEWPORT_LEFT\n",
    "        point[0] = VIEWPORT_LEFT\n",
    "        point[1] = point[1] - diff * slope\n",
    "    if Segment.RIGHT in segments:\n",
    "        diff = VIEWPORT_RIGHT - point[0]\n",
    "        point[0] = VIEWPORT_RIGHT\n",
    "        point[1] = point[1] + diff * slope\n",
    "    return point\n",
    "\n",
    "def cohen_sutherland(p1, p2):\n",
    "    segments1 = get_segments(p1)\n",
    "    segments2 = get_segments(p2)\n",
    "    \n",
    "    union = segments1 | segments2\n",
    "    \n",
    "    # all points are inside the viewport, no clipping required\n",
    "    if len(union) == 0:\n",
    "        return p1, p2\n",
    "    \n",
    "    intersection = segments1 & segments2\n",
    "\n",
    "    x = p2[0] - p1[0]\n",
    "    y = p2[1] - p1[1]\n",
    "    slope = x / y\n",
    "    \n",
    "    # line is not inside viewport, do not draw\n",
    "    if len(intersection) > 0:\n",
    "        return None, None\n",
    "    \n",
    "    # clip\n",
    "    return clip(p1, segments1, slope), clip(p2, segments2, slope)\n",
    "\n",
    "s1 = [2, 5]\n",
    "e1 = [22, 25]\n",
    "s2 = [20, 15]\n",
    "e2 = [20, 3]\n",
    "\n",
    "e1, s1 = cohen_sutherland(e1, s1)\n",
    "e2, s2 = cohen_sutherland(e2, s2)\n",
    "\n",
    "fig = Figure()\n",
    "draw_outline(fig)\n",
    "if s1 and e1:\n",
    "    fig.draw_polygon([s1, e1], linewidth=2, edgecolor='#FF0000')\n",
    "if s2 and e2:\n",
    "    fig.draw_polygon([s2, e2], linewidth=2, edgecolor='#0000FF')\n",
    "fig.draw()\n"
   ]
  }
 ],
 "metadata": {
  "kernelspec": {
   "display_name": "Python 3",
   "language": "python",
   "name": "python3"
  },
  "language_info": {
   "codemirror_mode": {
    "name": "ipython",
    "version": 3
   },
   "file_extension": ".py",
   "mimetype": "text/x-python",
   "name": "python",
   "nbconvert_exporter": "python",
   "pygments_lexer": "ipython3",
   "version": "3.5.2"
  }
 },
 "nbformat": 4,
 "nbformat_minor": 2
}
