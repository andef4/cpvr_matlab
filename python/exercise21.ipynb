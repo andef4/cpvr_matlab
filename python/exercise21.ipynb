{
 "cells": [
  {
   "cell_type": "markdown",
   "metadata": {},
   "source": [
    "# Exercise 21 : Cohen-Sutherland Clipping\n",
    "Using the Cohen-Sutherland algorithm, clip the segment (s 1 ; e 1 ) and (s 2 ; e 2 ). The clipping phase must be processed in order : BOTTOM , TOP , LEFT and RIGHT ."
   ]
  },
  {
   "cell_type": "code",
   "execution_count": 2,
   "metadata": {},
   "outputs": [],
   "source": [
    "%matplotlib inline\n",
    "import math\n",
    "import numpy as np\n",
    "import matplotlib.pyplot as plt\n",
    "import matplotlib\n",
    "from matplotlib.patches import Polygon\n",
    "from matplotlib.collections import PatchCollection"
   ]
  },
  {
   "cell_type": "code",
   "execution_count": 38,
   "metadata": {},
   "outputs": [
    {
     "data": {
      "image/png": "[encoded data removed]",
      "text/plain": [
       "<Figure size 432x288 with 1 Axes>"
      ]
     },
     "metadata": {},
     "output_type": "display_data"
    }
   ],
   "source": [
    "class Figure(object):\n",
    "    def __init__(self):\n",
    "        _, self.ax = plt.subplots()\n",
    "\n",
    "    def draw(self):\n",
    "        self.ax.axis((0, 40, 0, 30))\n",
    "        self.ax.set_aspect(1)\n",
    "        plt.show()\n",
    "        \n",
    "    def draw_polygon(self, points, linewidth=1, edgecolor='#000000'):\n",
    "        polygon = Polygon(points, True, linewidth=linewidth, edgecolor=edgecolor, facecolor='#FFFFFF')\n",
    "        self.ax.add_patch(polygon)\n",
    "    \n",
    "    def draw_point(self, p, color='red'):\n",
    "        self.ax.plot(p[0], p[1], marker='o', markersize=3, color=color)\n",
    "\n",
    "fig = Figure()\n",
    "\n",
    "def draw_outline(fig):\n",
    "    fig.draw_polygon([(10, 0), (10, 30)])\n",
    "    fig.draw_polygon([(30, 0), (30, 30)])\n",
    "    fig.draw_polygon([(0, 20), (40, 20)])\n",
    "    fig.draw_polygon([(0, 10), (40, 10)])\n",
    "\n",
    "s1 = (2, 5)\n",
    "e1 = (22, 25)\n",
    "s2 = (20, 15)\n",
    "e2 = (20, 3)\n",
    "\n",
    "fig.draw_polygon([s1, e1], linewidth=2, edgecolor='#FF0000')\n",
    "fig.draw_polygon([s2, e2], linewidth=2, edgecolor='#0000FF')\n",
    "\n",
    "fig.draw()"
   ]
  }
 ],
 "metadata": {
  "kernelspec": {
   "display_name": "Python 3",
   "language": "python",
   "name": "python3"
  },
  "language_info": {
   "codemirror_mode": {
    "name": "ipython",
    "version": 3
   },
   "file_extension": ".py",
   "mimetype": "text/x-python",
   "name": "python",
   "nbconvert_exporter": "python",
   "pygments_lexer": "ipython3",
   "version": "3.5.2"
  }
 },
 "nbformat": 4,
 "nbformat_minor": 2
}
