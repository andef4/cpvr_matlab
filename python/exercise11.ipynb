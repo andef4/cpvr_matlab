{
 "cells": [
  {
   "cell_type": "markdown",
   "metadata": {},
   "source": [
    "# Exercise 11 : Quaternions\n",
    "Using the quaternion algebra, rotate the vector\n",
    "~v = (1; 0; 0) around the z-axis with an angle of π."
   ]
  },
  {
   "cell_type": "code",
   "execution_count": 6,
   "metadata": {},
   "outputs": [
    {
     "data": {
      "text/plain": [
       "[-1.0, 1.2246467991473532e-16, 0.0]"
      ]
     },
     "execution_count": 6,
     "metadata": {},
     "output_type": "execute_result"
    }
   ],
   "source": [
    "import math\n",
    "\n",
    "class Quaternion(object):\n",
    "    def __init__(self):\n",
    "        self.x = 0\n",
    "        self.y = 0\n",
    "        self.z = 0\n",
    "        self.w = 0\n",
    "\n",
    "    def set_rotation(self, axis, angle):\n",
    "        s = math.sin(angle * 0.5)\n",
    "        self.x = axis[0] * s\n",
    "        self.y = axis[1] * s\n",
    "        self.z = axis[2] * s\n",
    "        self.w = math.cos(angle * 0.5)\n",
    "    \n",
    "    def multiply_vector(self, vector):\n",
    "        x = vector[0]\n",
    "        y = vector[1]\n",
    "        z = vector[2]\n",
    "\n",
    "        qx = self.x\n",
    "        qy = self.y\n",
    "        qz = self.z\n",
    "        qw = self.w\n",
    "\n",
    "        ix = qw * x + qy * z - qz * y\n",
    "        iy = qw * y + qz * x - qx * z\n",
    "        iz = qw * z + qx * y - qy * x\n",
    "        iw = -qx * x - qy * y - qz * z\n",
    "\n",
    "        return [\n",
    "          ix * qw + iw * -qx + iy * -qz - iz * -qy,\n",
    "          iy * qw + iw * -qy + iz * -qx - ix * -qz,\n",
    "          iz * qw + iw * -qz + ix * -qy - iy * -qx\n",
    "        ]\n",
    "\n",
    "q = Quaternion()\n",
    "q.set_rotation([0, 0, 1], math.pi)\n",
    "\n",
    "V = [1, 0, 0]\n",
    "q.multiply_vector(V)\n"
   ]
  }
 ],
 "metadata": {
  "kernelspec": {
   "display_name": "Python 3",
   "language": "python",
   "name": "python3"
  },
  "language_info": {
   "codemirror_mode": {
    "name": "ipython",
    "version": 3
   },
   "file_extension": ".py",
   "mimetype": "text/x-python",
   "name": "python",
   "nbconvert_exporter": "python",
   "pygments_lexer": "ipython3",
   "version": "3.5.2"
  }
 },
 "nbformat": 4,
 "nbformat_minor": 2
}
