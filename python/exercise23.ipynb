{
 "cells": [
  {
   "cell_type": "markdown",
   "metadata": {},
   "source": [
    "# Exercise 23 : Weiler-Atherton Clipping\n",
    "Using the Weiler-Atherton algorithm, clip the following subject polygon (red) using the \"window\" in black. Explain an algorithm that can be used."
   ]
  },
  {
   "cell_type": "code",
   "execution_count": 4,
   "metadata": {},
   "outputs": [],
   "source": [
    "%matplotlib inline\n",
    "import math\n",
    "import numpy as np\n",
    "import matplotlib.pyplot as plt\n",
    "import matplotlib\n",
    "from matplotlib.patches import Polygon\n",
    "from matplotlib.collections import PatchCollection"
   ]
  },
  {
   "cell_type": "code",
   "execution_count": 29,
   "metadata": {},
   "outputs": [],
   "source": [
    "class Figure(object):\n",
    "    def __init__(self):\n",
    "        _, self.ax = plt.subplots()\n",
    "\n",
    "    def draw(self):\n",
    "        self.ax.axis((0, 500, 0, 500))\n",
    "        self.ax.set_aspect(1)\n",
    "        plt.show()\n",
    "        \n",
    "    def draw_polygon(self, points, linewidth=1, edgecolor='#000000'):\n",
    "        polygon = Polygon(points, True, linewidth=linewidth, edgecolor=edgecolor, facecolor='none')\n",
    "        self.ax.add_patch(polygon)\n"
   ]
  },
  {
   "cell_type": "code",
   "execution_count": 46,
   "metadata": {},
   "outputs": [
    {
     "data": {
      "image/png": "[encoded data removed]",
      "text/plain": [
       "<Figure size 432x288 with 1 Axes>"
      ]
     },
     "metadata": {},
     "output_type": "display_data"
    }
   ],
   "source": [
    "outter_window = [\n",
    "    (470, 480), # A\n",
    "    (350, 330), # B\n",
    "    (20, 330), # C\n",
    "    (110, 135), # D\n",
    "    (50, 30), # E\n",
    "    (430, 30), # F\n",
    "    (400, 130), # G\n",
    "    (470, 180), # H\n",
    "]\n",
    "\n",
    "inner_window = [\n",
    "    (270, 50), # I\n",
    "    (180, 240), # J\n",
    "    (270, 280), # K\n",
    "]\n",
    "\n",
    "outter_polygon = [\n",
    "    (180, 480), # a\n",
    "    (230, 230), # b\n",
    "    (20, 160), # c\n",
    "    (220, 60), # d\n",
    "    (495, 350), # e\n",
    "]\n",
    "\n",
    "inner_polygon = [\n",
    "    (290, 390), # f\n",
    "    (320, 265), # g\n",
    "    (250, 250), # h\n",
    "    (250, 350), # i\n",
    "]\n",
    "\n",
    "fig = Figure()\n",
    "fig.draw_polygon(outter_window, linewidth=2, edgecolor='#000000')\n",
    "fig.draw_polygon(inner_window, linewidth=2, edgecolor='#000000')\n",
    "fig.draw_polygon(outter_polygon, linewidth=2, edgecolor='#FF0000')\n",
    "fig.draw_polygon(inner_polygon, linewidth=2, edgecolor='#FF0000')\n",
    "fig.draw()\n"
   ]
  }
 ],
 "metadata": {
  "kernelspec": {
   "display_name": "Python 3",
   "language": "python",
   "name": "python3"
  },
  "language_info": {
   "codemirror_mode": {
    "name": "ipython",
    "version": 3
   },
   "file_extension": ".py",
   "mimetype": "text/x-python",
   "name": "python",
   "nbconvert_exporter": "python",
   "pygments_lexer": "ipython3",
   "version": "3.5.2"
  }
 },
 "nbformat": 4,
 "nbformat_minor": 2
}
