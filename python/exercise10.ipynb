{
 "cells": [
  {
   "cell_type": "markdown",
   "metadata": {},
   "source": [
    "# Exercise 10 : Reflection around a line in plane\n",
    "* Given a 2D point given by its homogeneous coordinates P̃ = ( x̃; ỹ; 1) . Compute the coordinates of the point P̃ 0 which is obtained by a reflexion of P̃ around an axis inclined by π/6 with the x-axis.\n",
    "* Same exercise with an axis inclined by π/4 with the x-axis"
   ]
  },
  {
   "cell_type": "code",
   "execution_count": 42,
   "metadata": {},
   "outputs": [
    {
     "data": {
      "image/png": "[encoded data removed]",
      "text/plain": [
       "<Figure size 432x288 with 1 Axes>"
      ]
     },
     "metadata": {},
     "output_type": "display_data"
    }
   ],
   "source": [
    "%matplotlib inline\n",
    "import math\n",
    "import numpy as np\n",
    "import matplotlib.pyplot as plt\n",
    "import matplotlib\n",
    "from matplotlib.patches import Polygon\n",
    "from matplotlib.collections import PatchCollection\n",
    "\n",
    "class Figure(object):\n",
    "    def __init__(self):\n",
    "        _, self.ax = plt.subplots()\n",
    "\n",
    "    def draw(self):\n",
    "        self.ax.axis((-1, 10, -1, 10))\n",
    "        self.ax.set_aspect(1)\n",
    "        plt.show()\n",
    "        \n",
    "    def draw_polygon(self, points):\n",
    "        polygon = Polygon(points, True, linewidth=2, edgecolor='#000000', facecolor='#FFFFFF')\n",
    "        self.ax.add_patch(polygon)\n",
    "    \n",
    "    def draw_point(self, p, color='red'):\n",
    "        self.ax.plot(p[0], p[1], marker='o', markersize=3, color=color)\n",
    "\n",
    "def mat_mul(m1, m2):\n",
    "    return np.transpose(np.matmul(\n",
    "        np.transpose(m1),\n",
    "        np.transpose(m2),\n",
    "    ))\n",
    "\n",
    "def hom2aff(coord):\n",
    "    return [\n",
    "        coord[0][0] / coord[2][0],\n",
    "        coord[1][0] / coord[2][0],\n",
    "    ]\n",
    "\n",
    "fig = Figure()\n",
    "\n",
    "P = [[3], [6], [1]]\n",
    "\n",
    "fig.draw_point(hom2aff(P))\n",
    "\n",
    "# rotate axis\n",
    "A = [[0], [0], [1]]\n",
    "B = [[20], [0], [1]]\n",
    "\n",
    "rotation = math.pi / 6\n",
    "rotation_matrix = [\n",
    "    [math.cos(rotation), -math.sin(rotation), 0],\n",
    "    [math.sin(rotation), math.cos(rotation), 0],\n",
    "    [0, 0, 1],\n",
    "]\n",
    "\n",
    "B = mat_mul(B, rotation_matrix)\n",
    "\n",
    "fig.draw_polygon((hom2aff(A), hom2aff(B)))\n",
    "\n",
    "\n",
    "\n",
    "# rotate point\n",
    "rotation = math.pi / 6\n",
    "rotation_matrix1 = [\n",
    "    [math.cos(rotation), -math.sin(rotation), 0],\n",
    "    [math.sin(rotation), math.cos(rotation), 0],\n",
    "    [0, 0, 1],\n",
    "]\n",
    "\n",
    "reflection_matrix = [\n",
    "    [1, 0, 0],\n",
    "    [0, -1, 0],\n",
    "    [0, 0, 1],\n",
    "]\n",
    "\n",
    "rotation = math.pi / -6\n",
    "rotation_matrix2 = [\n",
    "    [math.cos(rotation), -math.sin(rotation), 0],\n",
    "    [math.sin(rotation), math.cos(rotation), 0],\n",
    "    [0, 0, 1],\n",
    "]\n",
    "\n",
    "\n",
    "mat = mat_mul(rotation_matrix2, reflection_matrix)\n",
    "mat = mat_mul(mat, rotation_matrix1)\n",
    "P2 = mat_mul(P, mat)\n",
    "\n",
    "fig.draw_point(hom2aff(P2), 'blue')\n",
    "\n",
    "fig.draw()\n"
   ]
  }
 ],
 "metadata": {
  "kernelspec": {
   "display_name": "Python 3",
   "language": "python",
   "name": "python3"
  },
  "language_info": {
   "codemirror_mode": {
    "name": "ipython",
    "version": 3
   },
   "file_extension": ".py",
   "mimetype": "text/x-python",
   "name": "python",
   "nbconvert_exporter": "python",
   "pygments_lexer": "ipython3",
   "version": "3.5.2"
  }
 },
 "nbformat": 4,
 "nbformat_minor": 2
}
