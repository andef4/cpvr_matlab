{
 "cells": [
  {
   "cell_type": "markdown",
   "metadata": {},
   "source": [
    "# Exercise 10 : Reflection around a line in plane\n",
    "* Given a 2D point given by its homogeneous coordinates P̃ = ( x̃; ỹ; 1) . Compute the coordinates of the point P̃ 0 which is obtained by a reflexion of P̃ around an axis inclined by π/6 with the x-axis.\n",
    "* Same exercise with an axis inclined by π/4 with the x-axis"
   ]
  },
  {
   "cell_type": "code",
   "execution_count": 3,
   "metadata": {},
   "outputs": [
    {
     "data": {
      "image/png": "[encoded data removed]",
      "text/plain": [
       "<Figure size 432x288 with 1 Axes>"
      ]
     },
     "metadata": {},
     "output_type": "display_data"
    }
   ],
   "source": [
    "%matplotlib inline\n",
    "import math\n",
    "import numpy as np\n",
    "import matplotlib.pyplot as plt\n",
    "import matplotlib\n",
    "from matplotlib.patches import Polygon\n",
    "from matplotlib.collections import PatchCollection\n",
    "\n",
    "def draw_polygon(points):\n",
    "    fig, ax = plt.subplots()\n",
    "    polygon = Polygon(points, True, linewidth=2, edgecolor='#000000', facecolor='#FFFFFF')\n",
    "    ax.add_patch(polygon)\n",
    "    ax.axis((-1, 10, -1, 10))\n",
    "    ax.set_aspect(1)\n",
    "    plt.show()\n",
    "\n",
    "P = (1, 6)\n",
    "    \n",
    "# rotate axis\n",
    "A = (0, 0)\n",
    "B = (20, 0)\n",
    "rotation = math.pi / 6\n",
    "matrix = [\n",
    "    [math.cos(rotation), -math.sin(rotation)],\n",
    "    [math.sin(rotation), math.cos(rotation)],\n",
    "]\n",
    "B = (\n",
    "    B[0] * matrix[0][0] + B[1] * matrix[0][1],\n",
    "    B[0] * matrix[1][0] + B[1] * matrix[1][1],\n",
    ")\n",
    "\n",
    "draw_polygon((A, B))\n",
    "\n",
    "# TODO:\n",
    "# * reflect on X axis with this matrix: [[1, 0], [0, -1]]\n",
    "# * rotate with given rotation"
   ]
  }
 ],
 "metadata": {
  "kernelspec": {
   "display_name": "Python 3",
   "language": "python",
   "name": "python3"
  },
  "language_info": {
   "codemirror_mode": {
    "name": "ipython",
    "version": 3
   },
   "file_extension": ".py",
   "mimetype": "text/x-python",
   "name": "python",
   "nbconvert_exporter": "python",
   "pygments_lexer": "ipython3",
   "version": "3.5.2"
  }
 },
 "nbformat": 4,
 "nbformat_minor": 2
}
