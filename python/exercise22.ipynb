{
 "cells": [
  {
   "cell_type": "markdown",
   "metadata": {},
   "source": [
    "# Exercise 22 : Liang-Barsky Clipping\n",
    "Using the Liang-Barsky, clip the following segment."
   ]
  },
  {
   "cell_type": "code",
   "execution_count": 2,
   "metadata": {},
   "outputs": [],
   "source": [
    "%matplotlib inline\n",
    "import math\n",
    "import numpy as np\n",
    "import matplotlib.pyplot as plt\n",
    "import matplotlib\n",
    "from matplotlib.patches import Polygon\n",
    "from matplotlib.collections import PatchCollection"
   ]
  },
  {
   "cell_type": "code",
   "execution_count": 3,
   "metadata": {},
   "outputs": [],
   "source": [
    "class Figure(object):\n",
    "    def __init__(self):\n",
    "        _, self.ax = plt.subplots()\n",
    "\n",
    "    def draw(self):\n",
    "        self.ax.axis((0, 300, 0, 200))\n",
    "        self.ax.set_aspect(1)\n",
    "        plt.show()\n",
    "        \n",
    "    def draw_polygon(self, points, linewidth=1, edgecolor='#000000'):\n",
    "        polygon = Polygon(points, True, linewidth=linewidth, edgecolor=edgecolor, facecolor='#FFFFFF')\n",
    "        self.ax.add_patch(polygon)\n",
    "    \n",
    "    def draw_point(self, p, color='red'):\n",
    "        self.ax.plot(p[0], p[1], marker='o', markersize=3, color=color)\n",
    "        \n",
    "def draw_outline(fig):\n",
    "    fig.draw_polygon([(70, 0), (70, 200)])\n",
    "    fig.draw_polygon([(230, 0), (230, 200)])\n",
    "    \n",
    "    fig.draw_polygon([(0, 60), (300, 60)])\n",
    "    fig.draw_polygon([(0, 150), (300, 150)])\n"
   ]
  },
  {
   "cell_type": "code",
   "execution_count": 24,
   "metadata": {},
   "outputs": [
    {
     "data": {
      "image/png": "[encoded data removed]",
      "text/plain": [
       "<Figure size 432x288 with 1 Axes>"
      ]
     },
     "metadata": {},
     "output_type": "display_data"
    }
   ],
   "source": [
    "x0 = 30\n",
    "y0 = 20\n",
    "x1 = 280\n",
    "y1 = 160\n",
    "\n",
    "fig = Figure()\n",
    "draw_outline(fig)\n",
    "fig.draw_polygon([(x0, y0), (x1, y1)], linewidth=2, edgecolor='#FF0000')\n",
    "fig.draw()\n"
   ]
  },
  {
   "cell_type": "code",
   "execution_count": 40,
   "metadata": {},
   "outputs": [
    {
     "data": {
      "image/png": "[encoded data removed]",
      "text/plain": [
       "<Figure size 432x288 with 1 Axes>"
      ]
     },
     "metadata": {},
     "output_type": "display_data"
    }
   ],
   "source": [
    "def clip(x_min, y_min, x_max, y_max, x1, y1, x2, y2):\n",
    "    delta_x = x2 - x1\n",
    "    delta_y = y2 - y1\n",
    "\n",
    "    p1 = -delta_x\n",
    "    p2 = delta_x\n",
    "    p3 = -delta_y\n",
    "    p4 = delta_y\n",
    "\n",
    "    q1 = x1 - x_min\n",
    "    q2 = x_max - x1\n",
    "    q3 = y1 - y_min\n",
    "    q4 = y_max - y1\n",
    "    \n",
    "    # p1 == 0 and q1 < 0: line is vertical (parallel to clipping window boundary) and starts left of the clipping window\n",
    "    # p3 == 0 and q3 < 0: line is horizontal (parallel to clipping window boundary) and starts below clipping window\n",
    "    # => do not draw line\n",
    "    if p1 == 0 and q1 < 0 or p3 == 0 and q3 < 0:\n",
    "        return None, None, None, None\n",
    "    \n",
    "    negative_values = [0]\n",
    "    positive_values = [1]\n",
    "    \n",
    "    # line could still be parallel to clipping window, skip if the case\n",
    "    if p1 != 0:\n",
    "        r1 = q1 / p1\n",
    "        r2 = q2 / p2\n",
    "\n",
    "        # outside to inside\n",
    "        if p1 < 0:\n",
    "            negative_values.append(r1)\n",
    "            positive_values.append(r2)\n",
    "        \n",
    "        # inside to outside\n",
    "        else:\n",
    "            negative_values.append(r2)\n",
    "            positive_values.append(r1)\n",
    "    \n",
    "    # line could still be parallel to clipping window, skip if the case\n",
    "    if p3 != 0:\n",
    "        r3 = q3 / p3\n",
    "        r4 = q4 / p4\n",
    "        # outside to inside\n",
    "        if p3 < 0:\n",
    "            negative_values.append(r3)\n",
    "            positive_values.append(r4)\n",
    "        \n",
    "        # inside to outside\n",
    "        else:\n",
    "            negative_values.append(r4)\n",
    "            positive_values.append(r3)\n",
    "\n",
    "    u1 = max(negative_values) # scaling factor for start point of line\n",
    "    u2 = min(positive_values) # scaling factor for end point of line\n",
    "\n",
    "    if u1 > u2:\n",
    "        # line is outside of clipping window\n",
    "        return None, None, None, None\n",
    "    \n",
    "    x_new_1 = x1 + p2 * u1\n",
    "    y_new_1 = y1 + p4 * u1\n",
    "\n",
    "    x_new_2 = x1 + p2 * u2\n",
    "    y_new_2 = y1 + p4 * u2\n",
    "\n",
    "    return x_new_1, y_new_1, x_new_2, y_new_2\n",
    "    \n",
    "# viewport\n",
    "x_min = 70\n",
    "x_max= 230\n",
    "y_min = 60\n",
    "y_max = 150\n",
    "\n",
    "# line\n",
    "x1 = 30\n",
    "y1 = 20\n",
    "x2 = 280\n",
    "y2 = 160\n",
    "\n",
    "fig = Figure()\n",
    "draw_outline(fig)\n",
    "\n",
    "x1, y1, x2, y2 = clip(x_min, y_min, x_max, y_max, x1, y1, x2, y2)\n",
    "\n",
    "if x1 is not None:\n",
    "    fig.draw_polygon([(x1, y1), (x2, y2)], linewidth=2, edgecolor='#FF0000')\n",
    "\n",
    "fig.draw()\n"
   ]
  }
 ],
 "metadata": {
  "kernelspec": {
   "display_name": "Python 3",
   "language": "python",
   "name": "python3"
  },
  "language_info": {
   "codemirror_mode": {
    "name": "ipython",
    "version": 3
   },
   "file_extension": ".py",
   "mimetype": "text/x-python",
   "name": "python",
   "nbconvert_exporter": "python",
   "pygments_lexer": "ipython3",
   "version": "3.5.2"
  }
 },
 "nbformat": 4,
 "nbformat_minor": 2
}
