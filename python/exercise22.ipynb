{
 "cells": [
  {
   "cell_type": "markdown",
   "metadata": {},
   "source": [
    "# Exercise 22 : Liang-Barsky Clipping\n",
    "Using the Liang-Barsky, clip the following segment."
   ]
  },
  {
   "cell_type": "code",
   "execution_count": 3,
   "metadata": {},
   "outputs": [],
   "source": [
    "%matplotlib inline\n",
    "import math\n",
    "import numpy as np\n",
    "import matplotlib.pyplot as plt\n",
    "import matplotlib\n",
    "from matplotlib.patches import Polygon\n",
    "from matplotlib.collections import PatchCollection"
   ]
  },
  {
   "cell_type": "code",
   "execution_count": 9,
   "metadata": {},
   "outputs": [],
   "source": [
    "class Figure(object):\n",
    "    def __init__(self):\n",
    "        _, self.ax = plt.subplots()\n",
    "\n",
    "    def draw(self):\n",
    "        self.ax.axis((0, 300, 0, 200))\n",
    "        self.ax.set_aspect(1)\n",
    "        plt.show()\n",
    "        \n",
    "    def draw_polygon(self, points, linewidth=1, edgecolor='#000000'):\n",
    "        polygon = Polygon(points, True, linewidth=linewidth, edgecolor=edgecolor, facecolor='#FFFFFF')\n",
    "        self.ax.add_patch(polygon)\n",
    "    \n",
    "    def draw_point(self, p, color='red'):\n",
    "        self.ax.plot(p[0], p[1], marker='o', markersize=3, color=color)\n",
    "        \n",
    "def draw_outline(fig):\n",
    "    fig.draw_polygon([(70, 0), (70, 200)])\n",
    "    fig.draw_polygon([(230, 0), (230, 200)])\n",
    "    \n",
    "    fig.draw_polygon([(0, 60), (300, 60)])\n",
    "    fig.draw_polygon([(0, 150), (300, 150)])\n"
   ]
  },
  {
   "cell_type": "code",
   "execution_count": 10,
   "metadata": {},
   "outputs": [
    {
     "data": {
      "image/png": "[encoded data removed]",
      "text/plain": [
       "<Figure size 432x288 with 1 Axes>"
      ]
     },
     "metadata": {},
     "output_type": "display_data"
    }
   ],
   "source": [
    "s1 = [30, 20]\n",
    "e1 = [280, 169]\n",
    "\n",
    "fig = Figure()\n",
    "draw_outline(fig)\n",
    "fig.draw_polygon([s1, e1], linewidth=2, edgecolor='#FF0000')\n",
    "fig.draw()"
   ]
  },
  {
   "cell_type": "code",
   "execution_count": null,
   "metadata": {},
   "outputs": [],
   "source": []
  }
 ],
 "metadata": {
  "kernelspec": {
   "display_name": "Python 3",
   "language": "python",
   "name": "python3"
  },
  "language_info": {
   "codemirror_mode": {
    "name": "ipython",
    "version": 3
   },
   "file_extension": ".py",
   "mimetype": "text/x-python",
   "name": "python",
   "nbconvert_exporter": "python",
   "pygments_lexer": "ipython3",
   "version": "3.5.2"
  }
 },
 "nbformat": 4,
 "nbformat_minor": 2
}
