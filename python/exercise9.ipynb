{
 "cells": [
  {
   "cell_type": "markdown",
   "metadata": {},
   "source": [
    "# Exercise 9 : Transformation in plane 2\n",
    "Let T be a triangle with the following vertices : A = (5; 3), B = (5, 0) and C = (0; 0). Which\n",
    "tranformation should be applied to this triangle to have the figure on the right, i.e. A 0 = (0; 5), B 0 = (3; 5) and C 0 = (3; 0)."
   ]
  },
  {
   "cell_type": "code",
   "execution_count": 20,
   "metadata": {},
   "outputs": [
    {
     "data": {
      "image/png": "[encoded data removed]",
      "text/plain": [
       "<Figure size 432x288 with 1 Axes>"
      ]
     },
     "metadata": {},
     "output_type": "display_data"
    },
    {
     "data": {
      "image/png": "[encoded data removed]",
      "text/plain": [
       "<Figure size 432x288 with 1 Axes>"
      ]
     },
     "metadata": {},
     "output_type": "display_data"
    },
    {
     "data": {
      "image/png": "[encoded data removed]",
      "text/plain": [
       "<Figure size 432x288 with 1 Axes>"
      ]
     },
     "metadata": {},
     "output_type": "display_data"
    },
    {
     "name": "stdout",
     "output_type": "stream",
     "text": [
      "A':  (0, 5)\n",
      "B':  (3, 5)\n",
      "C':  (3, 0)\n"
     ]
    }
   ],
   "source": [
    "%matplotlib inline\n",
    "import math\n",
    "import numpy as np\n",
    "import matplotlib.pyplot as plt\n",
    "import matplotlib\n",
    "from matplotlib.patches import Polygon\n",
    "from matplotlib.collections import PatchCollection\n",
    "\n",
    "A = (5, 3)\n",
    "B = (5, 0)\n",
    "C = (0, 0)\n",
    "coords = [A, B, C]\n",
    "\n",
    "def draw_polygon(points):\n",
    "    fig, ax = plt.subplots()\n",
    "    polygon = Polygon(points, True, linewidth=2, edgecolor='#000000', facecolor='#FFFFFF')\n",
    "    ax.add_patch(polygon)\n",
    "    ax.axis((-1, 6, -1, 6))\n",
    "    ax.set_aspect(1)\n",
    "    plt.show()\n",
    "\n",
    "draw_polygon(coords)\n",
    "\n",
    "############################\n",
    "rotation = math.pi / 2\n",
    "matrix = [\n",
    "    [math.cos(rotation), -math.sin(rotation)],\n",
    "    [math.sin(rotation), math.cos(rotation)],\n",
    "]\n",
    "\n",
    "rotatet_coords = list(map(lambda coord: (\n",
    "    coord[0] * matrix[0][0] + coord[1] * matrix[0][1],\n",
    "    coord[0] * matrix[1][0] + coord[1] * matrix[1][1],\n",
    "), coords))\n",
    "\n",
    "draw_polygon(rotatet_coords)\n",
    "\n",
    "###################################\n",
    "\n",
    "translation_x = (3.0, 0.0)\n",
    "translated_coords = list(map(lambda coord: (\n",
    "    round(coord[0] + translation_x[0]),\n",
    "    round(coord[1] + translation_x[1]),\n",
    "), rotatet_coords))\n",
    "\n",
    "\n",
    "draw_polygon(translated_coords)\n",
    "\n",
    "print(\"A': \", translated_coords[0])\n",
    "print(\"B': \", translated_coords[1])\n",
    "print(\"C': \", translated_coords[2])\n"
   ]
  }
 ],
 "metadata": {
  "kernelspec": {
   "display_name": "Python 3",
   "language": "python",
   "name": "python3"
  },
  "language_info": {
   "codemirror_mode": {
    "name": "ipython",
    "version": 3
   },
   "file_extension": ".py",
   "mimetype": "text/x-python",
   "name": "python",
   "nbconvert_exporter": "python",
   "pygments_lexer": "ipython3",
   "version": "3.5.2"
  }
 },
 "nbformat": 4,
 "nbformat_minor": 2
}
