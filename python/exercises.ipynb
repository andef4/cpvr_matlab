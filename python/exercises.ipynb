{
 "cells": [
  {
   "cell_type": "markdown",
   "metadata": {},
   "source": [
    "# Exercise 8\n",
    "Let S be a square with the vertices v1=(−0.5; −0.5), v2=(0.5; −0.5), v3=(0.5; 0.5) and v4=(−0.5; 0.5)\n",
    "1. Apply to that square a rotation of π/4 and a translation along vector x = (5.0; 0.0). Compute the new coordinates of the vertices of the square\n",
    "2. Apply to that square a translation along vector x = (5.0; 0.0) and then a rotation of π/4. Compute the new coordinates of the vertices of the square."
   ]
  },
  {
   "cell_type": "code",
   "execution_count": 67,
   "metadata": {},
   "outputs": [
    {
     "data": {
      "image/png": "[encoded data removed]",
      "text/plain": [
       "<Figure size 432x288 with 1 Axes>"
      ]
     },
     "metadata": {},
     "output_type": "display_data"
    },
    {
     "data": {
      "image/png": "[encoded data removed]",
      "text/plain": [
       "<Figure size 432x288 with 1 Axes>"
      ]
     },
     "metadata": {},
     "output_type": "display_data"
    },
    {
     "data": {
      "image/png": "[encoded data removed]",
      "text/plain": [
       "<Figure size 432x288 with 1 Axes>"
      ]
     },
     "metadata": {},
     "output_type": "display_data"
    }
   ],
   "source": [
    "%matplotlib inline\n",
    "import math\n",
    "import numpy as np\n",
    "import matplotlib.pyplot as plt\n",
    "import matplotlib\n",
    "from matplotlib.patches import Polygon\n",
    "from matplotlib.collections import PatchCollection\n",
    "\n",
    "v1 = (-0.5, -0.5)\n",
    "v2 = (0.5, -0.5)\n",
    "v3 = (0.5, 0.5)\n",
    "v4 = (-0.5, 0.5)\n",
    "coords = [v1, v2, v3, v4]\n",
    "\n",
    "def draw_polygon(points):\n",
    "    fig, ax = plt.subplots()\n",
    "    polygon = Polygon(points, True, linewidth=2, edgecolor='#000000', facecolor='#FFFFFF')\n",
    "    ax.add_patch(polygon)\n",
    "    ax.axis((-10, 10, -10, 10))\n",
    "    ax.set_aspect(1)\n",
    "    plt.show()\n",
    "\n",
    "draw_polygon(coords)\n",
    "\n",
    "translation_x = (5.0, 0.0)\n",
    "translated_coords = list(map(lambda coord: (coord[0] + translation_x[0], (coord[1] + translation_x[1])), coords))\n",
    "\n",
    "draw_polygon(translated_coords)\n",
    "\n",
    "rotation = math.pi / 4\n",
    "matrix = [\n",
    "    [math.cos(rotation), -math.sin(rotation)],\n",
    "    [math.sin(rotation), math.cos(rotation)],\n",
    "]\n",
    "\n",
    "rotatet_coords = list(map(lambda coord: (\n",
    "    coord[0] * matrix[0][0] + coord[1] * matrix[0][1],\n",
    "    coord[0] * matrix[1][0] + coord[1] * matrix[1][1],\n",
    "), translated_coords))\n",
    "\n",
    "                      \n",
    "draw_polygon(rotatet_coords)"
   ]
  },
  {
   "cell_type": "code",
   "execution_count": null,
   "metadata": {},
   "outputs": [],
   "source": []
  }
 ],
 "metadata": {
  "kernelspec": {
   "display_name": "Python 3",
   "language": "python",
   "name": "python3"
  },
  "language_info": {
   "codemirror_mode": {
    "name": "ipython",
    "version": 3
   },
   "file_extension": ".py",
   "mimetype": "text/x-python",
   "name": "python",
   "nbconvert_exporter": "python",
   "pygments_lexer": "ipython3",
   "version": "3.5.2"
  }
 },
 "nbformat": 4,
 "nbformat_minor": 2
}
